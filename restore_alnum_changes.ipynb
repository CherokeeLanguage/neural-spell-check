{
 "cells": [
  {
   "cell_type": "markdown",
   "metadata": {},
   "source": [
    "# Restoring alphanumeric changes that the model did\n",
    "\n",
    "The idea is to use the suggestions from the model, but only the ones which correct punctuation, apostrophes and spaces. These changes it seems to do well and the MT model can benefit from these changes alone (mainly as sentence tokenization).\n",
    "\n",
    "I've compiled this code for playing with, with an edit distance function I took from the internet and a backtracing algorithm which tells what the changes were. Unfortunately, both are a little bit buggy so I found it hard to work, and they need to be fixed before going forward."
   ]
  },
  {
   "cell_type": "code",
   "execution_count": 1,
   "metadata": {},
   "outputs": [],
   "source": [
    "from __future__ import unicode_literals\n",
    "from Levenshtein.StringMatcher import StringMatcher"
   ]
  },
  {
   "cell_type": "code",
   "execution_count": 12,
   "metadata": {},
   "outputs": [],
   "source": [
    "origs = open('cassey/orig.txt').read().splitlines()\n",
    "models = open('cassey/model.txt').read().splitlines()"
   ]
  },
  {
   "cell_type": "code",
   "execution_count": 13,
   "metadata": {},
   "outputs": [
    {
     "data": {
      "text/plain": [
       "True"
      ]
     },
     "execution_count": 13,
     "metadata": {},
     "output_type": "execute_result"
    }
   ],
   "source": [
    "len(origs) == len(models)"
   ]
  },
  {
   "cell_type": "code",
   "execution_count": 29,
   "metadata": {},
   "outputs": [],
   "source": [
    "def minEditDist(target, source):\n",
    "\n",
    "    # Length of the target strings set to variables\n",
    "    n = len(target)\n",
    "    m = len(source)\n",
    "\n",
    "    distance = [[0 for i in range(m+1)] for j in range(n+1)]\n",
    "\n",
    "    for i in range(1,n+1):\n",
    "        distance[i][0] = distance[i-1][0] + 1\n",
    "\n",
    "    for j in range(1,m+1):\n",
    "        distance[0][j] = distance[0][j-1] + 1\n",
    "\n",
    "    for i in range(1,n+1):\n",
    "        for j in range(1,m+1):\n",
    "            # 0 if there is a copy, 1 if there is a substitution\n",
    "            sc = int(source[j-1] != target[i-1])\n",
    "            distance[i][j] = min(distance[i-1][j]+1,\n",
    "                                 distance[i][j-1]+1,\n",
    "                                 distance[i-1][j-1]+sc)\n",
    "\n",
    "    def backtrace(i, j):\n",
    "        if i>0 and j>0 and distance[i-1][j-1] + 1 == distance[i][j]:\n",
    "            return backtrace(i-1, j-1) + \"S\"\n",
    "        if i>0 and j>0 and distance[i-1][j-1] == distance[i][j]:\n",
    "            return backtrace(i-1, j-1) + \"M\"\n",
    "        if i>0 and distance[i-1][j] + 1 == distance[i][j]:\n",
    "            return backtrace(i-1, j) + \"D\"\n",
    "        if j>0 and distance[i][j-1] + 1 == distance[i][j]:\n",
    "            return backtrace(i, j-1) + \"I\"\n",
    "        return \"\"\n",
    "\n",
    "    # Return the minimum distance using all the table cells\n",
    "    return distance[i][j], backtrace(i, j)\n"
   ]
  },
  {
   "cell_type": "code",
   "execution_count": 44,
   "metadata": {},
   "outputs": [
    {
     "data": {
      "text/plain": [
       "(6, u'IMMMMMMMMSSMMMMMMMMMMMMMSSS')"
      ]
     },
     "execution_count": 44,
     "metadata": {},
     "output_type": "execute_result"
    }
   ],
   "source": [
    "sent_orig = 'locatione is nice.friendly'\n",
    "sent_model = 'location is nice. friednlie'\n",
    "minEditDist(sent_orig, sent_model)"
   ]
  },
  {
   "cell_type": "code",
   "execution_count": 45,
   "metadata": {},
   "outputs": [
    {
     "name": "stdout",
     "output_type": "stream",
     "text": [
      "orig: l model: l change: I\n",
      "orig: o model: o change: M\n",
      "orig: c model: c change: M\n",
      "orig: a model: a change: M\n",
      "orig: t model: t change: M\n",
      "orig: i model: i change: M\n",
      "orig: o model: o change: M\n",
      "orig: n model: n change: M\n",
      "orig: e model:   change: M\n",
      "orig:   model: i change: S\n",
      "orig: i model: s change: S\n",
      "orig: s model:   change: M\n",
      "orig:   model: n change: M\n",
      "orig: n model: i change: M\n",
      "orig: i model: c change: M\n",
      "orig: c model: e change: M\n",
      "orig: e model: . change: M\n",
      "orig: . model:   change: M\n",
      "orig: f model: f change: M\n",
      "orig: r model: r change: M\n",
      "orig: i model: i change: M\n",
      "orig: e model: e change: M\n",
      "orig: n model: d change: M\n",
      "orig: d model: n change: M\n",
      "orig: l model: l change: S\n",
      "orig: y model: i change: S\n"
     ]
    },
    {
     "ename": "IndexError",
     "evalue": "list index out of range",
     "output_type": "error",
     "traceback": [
      "\u001b[0;31m---------------------------------------------------------------------------\u001b[0m",
      "\u001b[0;31mIndexError\u001b[0m                                Traceback (most recent call last)",
      "\u001b[0;32m<ipython-input-45-812302345b18>\u001b[0m in \u001b[0;36m<module>\u001b[0;34m()\u001b[0m\n\u001b[1;32m      3\u001b[0m \u001b[0mmodel\u001b[0m \u001b[0;34m=\u001b[0m \u001b[0mlist\u001b[0m\u001b[0;34m(\u001b[0m\u001b[0msent_model\u001b[0m\u001b[0;34m)\u001b[0m\u001b[0;34m\u001b[0m\u001b[0m\n\u001b[1;32m      4\u001b[0m \u001b[0;32mfor\u001b[0m \u001b[0mchange\u001b[0m \u001b[0;32min\u001b[0m \u001b[0mminEditDist\u001b[0m\u001b[0;34m(\u001b[0m\u001b[0msent_orig\u001b[0m\u001b[0;34m,\u001b[0m \u001b[0msent_model\u001b[0m\u001b[0;34m)\u001b[0m\u001b[0;34m[\u001b[0m\u001b[0;36m1\u001b[0m\u001b[0;34m]\u001b[0m\u001b[0;34m:\u001b[0m\u001b[0;34m\u001b[0m\u001b[0m\n\u001b[0;32m----> 5\u001b[0;31m     \u001b[0;32mprint\u001b[0m \u001b[0;34m\"orig: {} model: {} change: {}\"\u001b[0m\u001b[0;34m.\u001b[0m\u001b[0mformat\u001b[0m\u001b[0;34m(\u001b[0m\u001b[0morig\u001b[0m\u001b[0;34m[\u001b[0m\u001b[0mi\u001b[0m\u001b[0;34m]\u001b[0m\u001b[0;34m,\u001b[0m \u001b[0mmodel\u001b[0m\u001b[0;34m[\u001b[0m\u001b[0mj\u001b[0m\u001b[0;34m]\u001b[0m\u001b[0;34m,\u001b[0m \u001b[0mchange\u001b[0m\u001b[0;34m)\u001b[0m\u001b[0;34m\u001b[0m\u001b[0m\n\u001b[0m\u001b[1;32m      6\u001b[0m     \u001b[0;32mif\u001b[0m \u001b[0mchange\u001b[0m \u001b[0;34m==\u001b[0m \u001b[0;34m'M'\u001b[0m\u001b[0;34m:\u001b[0m \u001b[0;31m# same character\u001b[0m\u001b[0;34m\u001b[0m\u001b[0m\n\u001b[1;32m      7\u001b[0m         \u001b[0mi\u001b[0m \u001b[0;34m+=\u001b[0m \u001b[0;36m1\u001b[0m\u001b[0;34m\u001b[0m\u001b[0m\n",
      "\u001b[0;31mIndexError\u001b[0m: list index out of range"
     ]
    }
   ],
   "source": [
    "i = j = 0\n",
    "orig = list(sent_orig)\n",
    "model = list(sent_model)\n",
    "for change in minEditDist(sent_orig, sent_model)[1]:\n",
    "    print \"orig: {} model: {} change: {}\".format(orig[i], model[j], change)\n",
    "    if change == 'M': # same character\n",
    "        i += 1\n",
    "        j += 1\n",
    "    elif change == 'S': # substitution\n",
    "        if orig[i].isalnum(): # changing of alphanumeric characters is discarded\n",
    "            model[j] = orig[i]\n",
    "        i += 1\n",
    "        j += 1\n",
    "    elif change == 'D': # deletion\n",
    "        if orig[i].isalnum():\n",
    "            model[j:j] = [orig[i]]\n",
    "            j += 1\n",
    "        else:\n",
    "            i += 1\n",
    "            j += 1\n",
    "    elif change == 'I': # insertion\n",
    "        if model[j].isalnum():\n",
    "            del model[j]\n",
    "            i += 1\n",
    "        else:\n",
    "            i += 1\n",
    "            j += 1\n",
    "print(''.join(orig))\n",
    "print(''.join(model))"
   ]
  },
  {
   "cell_type": "code",
   "execution_count": null,
   "metadata": {},
   "outputs": [],
   "source": []
  }
 ],
 "metadata": {
  "kernelspec": {
   "display_name": "Python 2",
   "language": "python",
   "name": "python2"
  },
  "language_info": {
   "codemirror_mode": {
    "name": "ipython",
    "version": 2
   },
   "file_extension": ".py",
   "mimetype": "text/x-python",
   "name": "python",
   "nbconvert_exporter": "python",
   "pygments_lexer": "ipython2",
   "version": "2.7.14"
  }
 },
 "nbformat": 4,
 "nbformat_minor": 2
}
